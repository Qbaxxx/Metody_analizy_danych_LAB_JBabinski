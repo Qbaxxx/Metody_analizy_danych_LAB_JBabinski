{
  "nbformat": 4,
  "nbformat_minor": 0,
  "metadata": {
    "colab": {
      "provenance": [],
      "authorship_tag": "ABX9TyNZ6N7Tele4ckqH0m7Yh5cS",
      "include_colab_link": true
    },
    "kernelspec": {
      "name": "python3",
      "display_name": "Python 3"
    },
    "language_info": {
      "name": "python"
    }
  },
  "cells": [
    {
      "cell_type": "markdown",
      "metadata": {
        "id": "view-in-github",
        "colab_type": "text"
      },
      "source": [
        "<a href=\"https://colab.research.google.com/github/Qbaxxx/Metody_analizy_danych_LAB_JBabinski/blob/main/Lab2.ipynb\" target=\"_parent\"><img src=\"https://colab.research.google.com/assets/colab-badge.svg\" alt=\"Open In Colab\"/></a>"
      ]
    },
    {
      "cell_type": "code",
      "execution_count": 11,
      "metadata": {
        "id": "z08-tPJXD2fu"
      },
      "outputs": [],
      "source": [
        "import numpy as np"
      ]
    },
    {
      "cell_type": "code",
      "source": [
        "# Zadanie 1\n",
        "tablica = np.arange(2, 34, 2).reshape(4, 4)\n",
        "\n",
        "typ_danych = tablica.dtype\n",
        "liczba_elementow = tablica.size\n",
        "rozmiar_elementu = tablica.itemsize\n",
        "zaalokowana_pamiec = tablica.nbytes\n",
        "\n",
        "print(\"Tablica: \")\n",
        "print(tablica)\n",
        "print(\"\\nTyp danych: \", typ_danych)\n",
        "print(\"Liczba elementów: \", liczba_elementow)\n",
        "print(\"Rozmiar elementu (w bajtach): \", rozmiar_elementu)\n",
        "print(\"Łączna ilość zaalokowanej pamięci (w bajtach): \", zaalokowana_pamiec)"
      ],
      "metadata": {
        "colab": {
          "base_uri": "https://localhost:8080/"
        },
        "id": "IGV1uy7eD-ky",
        "outputId": "6647e72d-44a9-4373-9cf1-e585bfbf5567"
      },
      "execution_count": 12,
      "outputs": [
        {
          "output_type": "stream",
          "name": "stdout",
          "text": [
            "Tablica: \n",
            "[[ 2  4  6  8]\n",
            " [10 12 14 16]\n",
            " [18 20 22 24]\n",
            " [26 28 30 32]]\n",
            "\n",
            "Typ danych:  int64\n",
            "Liczba elementów:  16\n",
            "Rozmiar elementu (w bajtach):  8\n",
            "Łączna ilość zaalokowanej pamięci (w bajtach):  128\n"
          ]
        }
      ]
    },
    {
      "cell_type": "code",
      "source": [
        "# Zadanie 2\n",
        "widok_tablicy = tablica.view().astype(np.uint8)\n",
        "\n",
        "czy_widok = widok_tablicy.base is not None\n",
        "\n",
        "typ_danych = tablica.dtype\n",
        "liczba_elementow = tablica.size\n",
        "rozmiar_elementu = tablica.itemsize\n",
        "zaalokowana_pamiec = tablica.nbytes\n",
        "\n",
        "print(\"Tablica:\")\n",
        "print(widok_tablicy)\n",
        "print(\"\\nCzy tablica jest widokiem:\", czy_widok)\n",
        "print(\"Typ danych:\", typ_danych)\n",
        "print(\"Liczba elementów:\", liczba_elementow)\n",
        "print(\"Rozmiar pojedynczego elementu (w bajtach):\", rozmiar_elementu)\n",
        "print(\"Łączna ilość zaalokowanej pamięci (w bajtach):\", zaalokowana_pamiec)"
      ],
      "metadata": {
        "colab": {
          "base_uri": "https://localhost:8080/"
        },
        "id": "5YAdc4csEUfo",
        "outputId": "c2eb06fd-bfef-4876-db10-3096b4228474"
      },
      "execution_count": 13,
      "outputs": [
        {
          "output_type": "stream",
          "name": "stdout",
          "text": [
            "Tablica:\n",
            "[[ 2  4  6  8]\n",
            " [10 12 14 16]\n",
            " [18 20 22 24]\n",
            " [26 28 30 32]]\n",
            "\n",
            "Czy tablica jest widokiem: False\n",
            "Typ danych: int64\n",
            "Liczba elementów: 16\n",
            "Rozmiar pojedynczego elementu (w bajtach): 8\n",
            "Łączna ilość zaalokowanej pamięci (w bajtach): 128\n"
          ]
        }
      ]
    },
    {
      "cell_type": "code",
      "source": [
        "# Zadanie 3\n",
        "tablica_widok = tablica[1:3, 1:3]\n",
        "\n",
        "tablica_kopia = tablica[1:3, 1:3].copy()\n",
        "\n",
        "typ_danych = widok_tablicy.dtype\n",
        "liczba_elementow = widok_tablicy.size\n",
        "rozmiar_elementu = widok_tablicy.itemsize\n",
        "zaalokowana_pamiec = widok_tablicy.nbytes\n",
        "\n",
        "\n",
        "print(\"Tablica:\")\n",
        "print(widok_tablicy)\n",
        "print(\"\\nCzy tablica jest widokiem:\", czy_widok)\n",
        "print(\"Typ danych:\", typ_danych)\n",
        "print(\"Liczba elementów:\", liczba_elementow)\n",
        "print(\"Rozmiar pojedynczego elementu (w bajtach):\", rozmiar_elementu)\n",
        "print(\"Łączna ilość zaalokowanej pamięci (w bajtach):\", zaalokowana_pamiec)\n",
        "\n",
        "print(\"\\nObszar 2x2 jako widok:\")\n",
        "print(tablica_widok)\n",
        "\n",
        "print(\"\\nObszar 2x2 jako kopia:\")\n",
        "print(tablica_kopia)"
      ],
      "metadata": {
        "colab": {
          "base_uri": "https://localhost:8080/"
        },
        "id": "LK0DDYrMHMJL",
        "outputId": "f41a7fbc-f540-434b-964b-71c83feb68e0"
      },
      "execution_count": 14,
      "outputs": [
        {
          "output_type": "stream",
          "name": "stdout",
          "text": [
            "Tablica:\n",
            "[[ 2  4  6  8]\n",
            " [10 12 14 16]\n",
            " [18 20 22 24]\n",
            " [26 28 30 32]]\n",
            "\n",
            "Czy tablica jest widokiem: False\n",
            "Typ danych: uint8\n",
            "Liczba elementów: 16\n",
            "Rozmiar pojedynczego elementu (w bajtach): 1\n",
            "Łączna ilość zaalokowanej pamięci (w bajtach): 16\n",
            "\n",
            "Obszar 2x2 jako widok:\n",
            "[[12 14]\n",
            " [20 22]]\n",
            "\n",
            "Obszar 2x2 jako kopia:\n",
            "[[12 14]\n",
            " [20 22]]\n"
          ]
        }
      ]
    },
    {
      "cell_type": "code",
      "source": [
        "# Zadanie 4\n",
        "tablica = np.tile(np.array([1, 2, 3, 4]), (4, 1))\n",
        "\n",
        "tablica_lustrzana = tablica[:, ::-1]\n",
        "\n",
        "tablica_polaczona = np.hstack((tablica, tablica_lustrzana))\n",
        "\n",
        "widok_tablicy = tablica.view().astype(np.uint8)\n",
        "\n",
        "czy_widok = widok_tablicy.base is not None\n",
        "\n",
        "tablica_widok = tablica[1:3, 1:3]\n",
        "\n",
        "tablica_kopia = tablica[1:3, 1:3].copy()\n",
        "\n",
        "typ_danych = widok_tablicy.dtype\n",
        "liczba_elementow = widok_tablicy.size\n",
        "rozmiar_elementu = widok_tablicy.itemsize\n",
        "zaalokowana_pamiec = widok_tablicy.nbytes\n",
        "\n",
        "print(\"Tablica:\")\n",
        "print(widok_tablicy)\n",
        "print(\"\\nCzy tablica jest widokiem:\", czy_widok)\n",
        "print(\"Typ danych:\", typ_danych)\n",
        "print(\"Liczba elementów:\", liczba_elementow)\n",
        "print(\"Rozmiar pojedynczego elementu (w bajtach):\", rozmiar_elementu)\n",
        "print(\"Łączna ilość zaalokowanej pamięci (w bajtach):\", zaalokowana_pamiec)\n",
        "\n",
        "print(\"\\nObszar 2x2 jako widok:\")\n",
        "print(tablica_widok)\n",
        "\n",
        "print(\"\\nObszar 2x2 jako kopia:\")\n",
        "print(tablica_kopia)\n",
        "\n",
        "print(\"\\nTablica 4x4 z wartościami 1,2,3,4 w każdym wierszu:\")\n",
        "print(tablica)\n",
        "\n",
        "print(\"\\nWersja lustrzana tablicy w poziomie:\")\n",
        "print(tablica_lustrzana)\n",
        "\n",
        "print(\"\\nPołączona tablica:\")\n",
        "print(tablica_polaczona)"
      ],
      "metadata": {
        "colab": {
          "base_uri": "https://localhost:8080/"
        },
        "id": "x6SCJyf7HyKH",
        "outputId": "302f7a27-df6f-4d6a-a0bf-2953a9cbd7f3"
      },
      "execution_count": 15,
      "outputs": [
        {
          "output_type": "stream",
          "name": "stdout",
          "text": [
            "Tablica:\n",
            "[[1 2 3 4]\n",
            " [1 2 3 4]\n",
            " [1 2 3 4]\n",
            " [1 2 3 4]]\n",
            "\n",
            "Czy tablica jest widokiem: False\n",
            "Typ danych: uint8\n",
            "Liczba elementów: 16\n",
            "Rozmiar pojedynczego elementu (w bajtach): 1\n",
            "Łączna ilość zaalokowanej pamięci (w bajtach): 16\n",
            "\n",
            "Obszar 2x2 jako widok:\n",
            "[[2 3]\n",
            " [2 3]]\n",
            "\n",
            "Obszar 2x2 jako kopia:\n",
            "[[2 3]\n",
            " [2 3]]\n",
            "\n",
            "Tablica 4x4 z wartościami 1,2,3,4 w każdym wierszu:\n",
            "[[1 2 3 4]\n",
            " [1 2 3 4]\n",
            " [1 2 3 4]\n",
            " [1 2 3 4]]\n",
            "\n",
            "Wersja lustrzana tablicy w poziomie:\n",
            "[[4 3 2 1]\n",
            " [4 3 2 1]\n",
            " [4 3 2 1]\n",
            " [4 3 2 1]]\n",
            "\n",
            "Połączona tablica:\n",
            "[[1 2 3 4 4 3 2 1]\n",
            " [1 2 3 4 4 3 2 1]\n",
            " [1 2 3 4 4 3 2 1]\n",
            " [1 2 3 4 4 3 2 1]]\n"
          ]
        }
      ]
    },
    {
      "cell_type": "code",
      "source": [
        "# Zadanie 5\n",
        "Z_5 = np.ones((2, 2), dtype=int)\n",
        "\n",
        "Z_5_2 = Z_5 * 2\n",
        "Z_5_3 = Z_5 * 3\n",
        "Z_5_4 = Z_5 * 4\n",
        "\n",
        "tablica_finalna = np.vstack((np.hstack((Z_5, Z_5_2)), np.hstack((Z_5_3, Z_5_4))))\n",
        "\n",
        "print(\"Finalna tablica 4x4:\")\n",
        "print(tablica_finalna)"
      ],
      "metadata": {
        "colab": {
          "base_uri": "https://localhost:8080/"
        },
        "id": "8RjvQU6rIfus",
        "outputId": "f60f8747-976c-4346-ea94-e941133268a1"
      },
      "execution_count": 16,
      "outputs": [
        {
          "output_type": "stream",
          "name": "stdout",
          "text": [
            "Finalna tablica 4x4:\n",
            "[[1 1 2 2]\n",
            " [1 1 2 2]\n",
            " [3 3 4 4]\n",
            " [3 3 4 4]]\n"
          ]
        }
      ]
    }
  ]
}