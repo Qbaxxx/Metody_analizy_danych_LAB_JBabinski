{
  "nbformat": 4,
  "nbformat_minor": 0,
  "metadata": {
    "colab": {
      "provenance": [],
      "authorship_tag": "ABX9TyPPOJwa/u83Ek9wgpKN6LST",
      "include_colab_link": true
    },
    "kernelspec": {
      "name": "python3",
      "display_name": "Python 3"
    },
    "language_info": {
      "name": "python"
    }
  },
  "cells": [
    {
      "cell_type": "markdown",
      "metadata": {
        "id": "view-in-github",
        "colab_type": "text"
      },
      "source": [
        "<a href=\"https://colab.research.google.com/github/Qbaxxx/Metody_analizy_danych_LAB_JBabinski/blob/main/Lab3.ipynb\" target=\"_parent\"><img src=\"https://colab.research.google.com/assets/colab-badge.svg\" alt=\"Open In Colab\"/></a>"
      ]
    },
    {
      "cell_type": "code",
      "execution_count": 2,
      "metadata": {
        "id": "k4H83kfaKy4x"
      },
      "outputs": [],
      "source": [
        "import numpy as np\n",
        "import pickle\n",
        "import timeit"
      ]
    },
    {
      "cell_type": "code",
      "source": [
        "# Zad 1\n",
        "\"\"\"Stwórz tablicę o nazwie\n",
        " a_small_one o wymiarach 8x8 z\n",
        " wartościami od 1 do 64.\"\"\""
      ],
      "metadata": {
        "id": "K4lM6uc_K2iG",
        "colab": {
          "base_uri": "https://localhost:8080/",
          "height": 53
        },
        "outputId": "975660d4-6fff-4d35-c054-d130a944732a"
      },
      "execution_count": 3,
      "outputs": [
        {
          "output_type": "execute_result",
          "data": {
            "text/plain": [
              "'Stwórz tablicę o nazwie\\n a_small_one o wymiarach 8x8 z\\n wartościami od 1 do 64.'"
            ],
            "application/vnd.google.colaboratory.intrinsic+json": {
              "type": "string"
            }
          },
          "metadata": {},
          "execution_count": 3
        }
      ]
    },
    {
      "cell_type": "code",
      "source": [
        "a_small_one = np.arange(1, 65).reshape(8, 8)\n",
        "print(a_small_one)"
      ],
      "metadata": {
        "colab": {
          "base_uri": "https://localhost:8080/"
        },
        "id": "4-_5huZOLJOc",
        "outputId": "b462b26f-b732-474b-966b-e4dc889c04a4"
      },
      "execution_count": 4,
      "outputs": [
        {
          "output_type": "stream",
          "name": "stdout",
          "text": [
            "[[ 1  2  3  4  5  6  7  8]\n",
            " [ 9 10 11 12 13 14 15 16]\n",
            " [17 18 19 20 21 22 23 24]\n",
            " [25 26 27 28 29 30 31 32]\n",
            " [33 34 35 36 37 38 39 40]\n",
            " [41 42 43 44 45 46 47 48]\n",
            " [49 50 51 52 53 54 55 56]\n",
            " [57 58 59 60 61 62 63 64]]\n"
          ]
        }
      ]
    },
    {
      "cell_type": "code",
      "source": [
        "# Zad 2\n",
        "\"\"\"Dla tablicy a_small_one policz:\n",
        "\n",
        "sumę dla każdej kolumny,\n",
        "sumę skumulowaną dla każdego wiersza,\n",
        "wartość średnią dla każdego wiersza,\"\"\""
      ],
      "metadata": {
        "id": "9lhonESWLORI",
        "colab": {
          "base_uri": "https://localhost:8080/",
          "height": 53
        },
        "outputId": "ce83d5a8-9a76-4886-cb6f-b64ed7f0994f"
      },
      "execution_count": 5,
      "outputs": [
        {
          "output_type": "execute_result",
          "data": {
            "text/plain": [
              "'Dla tablicy a_small_one policz:\\n\\nsumę dla każdej kolumny,\\nsumę skumulowaną dla każdego wiersza,\\nwartość średnią dla każdego wiersza,'"
            ],
            "application/vnd.google.colaboratory.intrinsic+json": {
              "type": "string"
            }
          },
          "metadata": {},
          "execution_count": 5
        }
      ]
    },
    {
      "cell_type": "code",
      "source": [
        "print(a_small_one.sum(axis=0))\n",
        "print(a_small_one.cumsum(axis=1))\n",
        "print(a_small_one.mean(axis=1))"
      ],
      "metadata": {
        "colab": {
          "base_uri": "https://localhost:8080/"
        },
        "id": "Z6gqrQ98LUod",
        "outputId": "6d85cee6-fd6e-4ca1-b2f9-82d9920374bf"
      },
      "execution_count": 6,
      "outputs": [
        {
          "output_type": "stream",
          "name": "stdout",
          "text": [
            "[232 240 248 256 264 272 280 288]\n",
            "[[  1   3   6  10  15  21  28  36]\n",
            " [  9  19  30  42  55  69  84 100]\n",
            " [ 17  35  54  74  95 117 140 164]\n",
            " [ 25  51  78 106 135 165 196 228]\n",
            " [ 33  67 102 138 175 213 252 292]\n",
            " [ 41  83 126 170 215 261 308 356]\n",
            " [ 49  99 150 202 255 309 364 420]\n",
            " [ 57 115 174 234 295 357 420 484]]\n",
            "[ 4.5 12.5 20.5 28.5 36.5 44.5 52.5 60.5]\n"
          ]
        }
      ]
    },
    {
      "cell_type": "code",
      "source": [
        "# Zad 3\n",
        "\"\"\"Zwróć podtablicę z tablicy\n",
        " a_small_one z elementami\n",
        "  parzystymi (nie nadpisuj tej zmiennej).\"\"\""
      ],
      "metadata": {
        "id": "wm90JAmrLVVG",
        "colab": {
          "base_uri": "https://localhost:8080/",
          "height": 53
        },
        "outputId": "2e3f6de7-041d-45e9-c825-1fd9d17240d1"
      },
      "execution_count": 7,
      "outputs": [
        {
          "output_type": "execute_result",
          "data": {
            "text/plain": [
              "'Zwróć podtablicę z tablicy\\n a_small_one z elementami\\n  parzystymi (nie nadpisuj tej zmiennej).'"
            ],
            "application/vnd.google.colaboratory.intrinsic+json": {
              "type": "string"
            }
          },
          "metadata": {},
          "execution_count": 7
        }
      ]
    },
    {
      "cell_type": "code",
      "source": [
        "print(a_small_one[a_small_one % 2 == 0])"
      ],
      "metadata": {
        "colab": {
          "base_uri": "https://localhost:8080/"
        },
        "id": "KoleD4i4Ldcm",
        "outputId": "81653135-1b0c-4972-f717-d4423afd92f3"
      },
      "execution_count": 8,
      "outputs": [
        {
          "output_type": "stream",
          "name": "stdout",
          "text": [
            "[ 2  4  6  8 10 12 14 16 18 20 22 24 26 28 30 32 34 36 38 40 42 44 46 48\n",
            " 50 52 54 56 58 60 62 64]\n"
          ]
        }
      ]
    },
    {
      "cell_type": "code",
      "source": [
        "# Zad 4\n",
        "\"\"\"Zapisz do zmiennej o nazwie\n",
        " no_even_small_one\n",
        " tablicę a_small_one\n",
        "  zamieniając wartości\n",
        "  parzyste na wartość np.nan.\n",
        "\"\"\""
      ],
      "metadata": {
        "id": "WLEsjx34Ld-f",
        "colab": {
          "base_uri": "https://localhost:8080/",
          "height": 53
        },
        "outputId": "2ff63582-e641-4df8-da89-458c144db7b8"
      },
      "execution_count": 9,
      "outputs": [
        {
          "output_type": "execute_result",
          "data": {
            "text/plain": [
              "'Zapisz do zmiennej o nazwie\\n no_even_small_one\\n tablicę a_small_one\\n  zamieniając wartości\\n  parzyste na wartość np.nan.\\n'"
            ],
            "application/vnd.google.colaboratory.intrinsic+json": {
              "type": "string"
            }
          },
          "metadata": {},
          "execution_count": 9
        }
      ]
    },
    {
      "cell_type": "code",
      "source": [
        "no_even_small_one = np.where(a_small_one % 2 == 0, np.nan, a_small_one)\n",
        "print(no_even_small_one)"
      ],
      "metadata": {
        "colab": {
          "base_uri": "https://localhost:8080/"
        },
        "id": "9pyEfT9rLmCv",
        "outputId": "8b009d23-54f3-492b-e42e-ed9a655dde42"
      },
      "execution_count": 10,
      "outputs": [
        {
          "output_type": "stream",
          "name": "stdout",
          "text": [
            "[[ 1. nan  3. nan  5. nan  7. nan]\n",
            " [ 9. nan 11. nan 13. nan 15. nan]\n",
            " [17. nan 19. nan 21. nan 23. nan]\n",
            " [25. nan 27. nan 29. nan 31. nan]\n",
            " [33. nan 35. nan 37. nan 39. nan]\n",
            " [41. nan 43. nan 45. nan 47. nan]\n",
            " [49. nan 51. nan 53. nan 55. nan]\n",
            " [57. nan 59. nan 61. nan 63. nan]]\n"
          ]
        }
      ]
    },
    {
      "cell_type": "markdown",
      "source": [],
      "metadata": {
        "id": "gjv9vk-CVoiC"
      }
    },
    {
      "cell_type": "code",
      "source": [
        "# Zad 5\n",
        "\"\"\"Dla tablicy no_even_small_one policz\n",
        "funkcjami uwzględniającymi wartości\n",
        "nan (zazwyczaj posiadają przedrostek nan):\n",
        "\n",
        "sumę dla każdego wiersza,\n",
        "średnią dla każdej kolumny,\n",
        "wartość najmniejszą i w całej tablicy,\"\"\""
      ],
      "metadata": {
        "id": "sNhqNwImLmaa",
        "colab": {
          "base_uri": "https://localhost:8080/",
          "height": 70
        },
        "outputId": "70f1b883-65a6-4670-ab83-4a47987dd56a"
      },
      "execution_count": 11,
      "outputs": [
        {
          "output_type": "execute_result",
          "data": {
            "text/plain": [
              "'Dla tablicy no_even_small_one policz\\nfunkcjami uwzględniającymi wartości\\nnan (zazwyczaj posiadają przedrostek nan):\\n\\nsumę dla każdego wiersza,\\nśrednią dla każdej kolumny,\\nwartość najmniejszą i w całej tablicy,'"
            ],
            "application/vnd.google.colaboratory.intrinsic+json": {
              "type": "string"
            }
          },
          "metadata": {},
          "execution_count": 11
        }
      ]
    },
    {
      "cell_type": "code",
      "source": [
        "row_sums = np.nansum(no_even_small_one, axis=1)\n",
        "\n",
        "col_means = np.nanmean(no_even_small_one, axis=0)\n",
        "\n",
        "min_value = np.nanmin(no_even_small_one)\n",
        "\n",
        "print(\"Suma dla każdego wiersza:\", row_sums)\n",
        "print(\"Średnia dla każdej kolumny:\", col_means)\n",
        "print(\"Najmniejsza wartość w całej tablicy:\", min_value)"
      ],
      "metadata": {
        "colab": {
          "base_uri": "https://localhost:8080/"
        },
        "id": "fXTbMPYLLw9q",
        "outputId": "08a482b7-c61a-4e30-e7ff-6d73e9b7cc80"
      },
      "execution_count": 12,
      "outputs": [
        {
          "output_type": "stream",
          "name": "stdout",
          "text": [
            "Suma dla każdego wiersza: [ 16.  48.  80. 112. 144. 176. 208. 240.]\n",
            "Średnia dla każdej kolumny: [29. nan 31. nan 33. nan 35. nan]\n",
            "Najmniejsza wartość w całej tablicy: 1.0\n"
          ]
        },
        {
          "output_type": "stream",
          "name": "stderr",
          "text": [
            "<ipython-input-12-6ff7646227e3>:3: RuntimeWarning: Mean of empty slice\n",
            "  col_means = np.nanmean(no_even_small_one, axis=0)\n"
          ]
        }
      ]
    },
    {
      "cell_type": "code",
      "source": [
        "# Zad 6\n",
        "\"\"\"Do tablicy no_even_small_one wstaw za pomocą funkcji np.where:\n",
        "\n",
        "wartości 1 dla każdej wartości np.nan (zobacz wbudowaną funkcję np.isnan())\n",
        "liczby parzyste, które wcześniej zastąpiliśmy wartościami nan\n",
        "(teraz 1 jeżeli wykonany jest podpunkt pierwszy),\n",
        "więc przywracamy ten tablicy wygląd oryginalny z tablicy\n",
        "a_small_one - dla warunku wstawiaj wartość z a_small_one\n",
        "lub no_even_small_one\"\"\""
      ],
      "metadata": {
        "id": "Ikh87lDtLzIu",
        "colab": {
          "base_uri": "https://localhost:8080/",
          "height": 105
        },
        "outputId": "d0fbbc06-679c-4390-db94-7f71733061ed"
      },
      "execution_count": 13,
      "outputs": [
        {
          "output_type": "execute_result",
          "data": {
            "text/plain": [
              "'Do tablicy no_even_small_one wstaw za pomocą funkcji np.where:\\n\\nwartości 1 dla każdej wartości np.nan (zobacz wbudowaną funkcję np.isnan())\\nliczby parzyste, które wcześniej zastąpiliśmy wartościami nan\\n(teraz 1 jeżeli wykonany jest podpunkt pierwszy),\\nwięc przywracamy ten tablicy wygląd oryginalny z tablicy\\na_small_one - dla warunku wstawiaj wartość z a_small_one\\nlub no_even_small_one'"
            ],
            "application/vnd.google.colaboratory.intrinsic+json": {
              "type": "string"
            }
          },
          "metadata": {},
          "execution_count": 13
        }
      ]
    },
    {
      "cell_type": "code",
      "source": [
        "no_even_small_one = np.where(a_small_one % 2 == 0, np.nan, a_small_one)\n",
        "\n",
        "no_even_small_one = np.where(np.isnan(no_even_small_one), 1, no_even_small_one)\n",
        "\n",
        "no_even_small_one = np.where(a_small_one % 2 == 0, a_small_one, no_even_small_one)\n",
        "\n",
        "print(\"Ostateczna tablica:\\n\", no_even_small_one)"
      ],
      "metadata": {
        "colab": {
          "base_uri": "https://localhost:8080/"
        },
        "id": "JLnKnDGnMEgZ",
        "outputId": "18f3d1cf-4de2-430c-e35d-1135e5760265"
      },
      "execution_count": 14,
      "outputs": [
        {
          "output_type": "stream",
          "name": "stdout",
          "text": [
            "Ostateczna tablica:\n",
            " [[ 1.  2.  3.  4.  5.  6.  7.  8.]\n",
            " [ 9. 10. 11. 12. 13. 14. 15. 16.]\n",
            " [17. 18. 19. 20. 21. 22. 23. 24.]\n",
            " [25. 26. 27. 28. 29. 30. 31. 32.]\n",
            " [33. 34. 35. 36. 37. 38. 39. 40.]\n",
            " [41. 42. 43. 44. 45. 46. 47. 48.]\n",
            " [49. 50. 51. 52. 53. 54. 55. 56.]\n",
            " [57. 58. 59. 60. 61. 62. 63. 64.]]\n"
          ]
        }
      ]
    },
    {
      "cell_type": "code",
      "source": [
        "# Zad 7\n",
        "\"\"\"Stwórz tablicę o nazwie sto_by_sto o wymiarach 100x100\n",
        "próbkując wartości z rozkładu normalnego standardowego.\"\"\""
      ],
      "metadata": {
        "id": "4_ZFLgxKMFDq",
        "colab": {
          "base_uri": "https://localhost:8080/",
          "height": 53
        },
        "outputId": "f1629683-4b2b-4985-a874-c455b4f6bd41"
      },
      "execution_count": 15,
      "outputs": [
        {
          "output_type": "execute_result",
          "data": {
            "text/plain": [
              "'Stwórz tablicę o nazwie sto_by_sto o wymiarach 100x100\\npróbkując wartości z rozkładu normalnego standardowego.'"
            ],
            "application/vnd.google.colaboratory.intrinsic+json": {
              "type": "string"
            }
          },
          "metadata": {},
          "execution_count": 15
        }
      ]
    },
    {
      "cell_type": "code",
      "source": [
        "sto_by_sto = np.random.randn(100, 100)\n",
        "print(sto_by_sto[:5, :5])"
      ],
      "metadata": {
        "colab": {
          "base_uri": "https://localhost:8080/"
        },
        "id": "3xWBRcOeMKcp",
        "outputId": "c8c5c36e-15c0-4a57-9549-80b0ba47038f"
      },
      "execution_count": 16,
      "outputs": [
        {
          "output_type": "stream",
          "name": "stdout",
          "text": [
            "[[-0.0128004  -0.74137822 -1.83701976  0.46757752  0.94842282]\n",
            " [-0.07766871  1.10426203  0.89808582 -1.038169   -1.45117559]\n",
            " [ 0.42082202  0.91979421  0.75600643 -0.84756243 -1.23770041]\n",
            " [ 1.55484189 -0.36698334 -0.00282186  2.24644846 -0.22494083]\n",
            " [-2.09113317  0.51316074 -0.20144153  0.59222455 -0.20174577]]\n"
          ]
        }
      ]
    },
    {
      "cell_type": "code",
      "source": [
        "# Zad 8\n",
        "\"\"\"Dla tablicy sto_by_sto policz:\n",
        "\n",
        "wartość średnią w każdym wierszu i kolumnie (oddzielnie),\n",
        "policz średnią różnicę bezwzględną dla wartości w powyższym\n",
        "punkcie względem wartości 0 (oddzielnie dla średniej z kolumn\n",
        "i średniej z wierszy, pamiętam o tym, że operacje na tablicy\n",
        "numpy wykonywane są w trybie broadcast).\"\"\""
      ],
      "metadata": {
        "id": "zaotWGk2MK76",
        "colab": {
          "base_uri": "https://localhost:8080/",
          "height": 88
        },
        "outputId": "5a7a0a63-d7fc-4c59-85ef-a81a7b7c61c5"
      },
      "execution_count": 17,
      "outputs": [
        {
          "output_type": "execute_result",
          "data": {
            "text/plain": [
              "'Dla tablicy sto_by_sto policz:\\n\\nwartość średnią w każdym wierszu i kolumnie (oddzielnie),\\npolicz średnią różnicę bezwzględną dla wartości w powyższym\\npunkcie względem wartości 0 (oddzielnie dla średniej z kolumn\\ni średniej z wierszy, pamiętam o tym, że operacje na tablicy\\nnumpy wykonywane są w trybie broadcast).'"
            ],
            "application/vnd.google.colaboratory.intrinsic+json": {
              "type": "string"
            }
          },
          "metadata": {},
          "execution_count": 17
        }
      ]
    },
    {
      "cell_type": "code",
      "source": [
        "row_means = np.mean(sto_by_sto, axis=1)\n",
        "col_means = np.mean(sto_by_sto, axis=0)\n",
        "row_mean_abs_diff = np.mean(np.abs(row_means))\n",
        "col_mean_abs_diff = np.mean(np.abs(col_means))\n",
        "#print(\"Średnie wartości w każdym wierszu:\", row_means)\n",
        "#print(\"Średnie wartości w każdej kolumnie:\", col_means)\n",
        "print(\"Średnia różnica bezwzględna względem 0 dla średnich wierszy:\", row_mean_abs_diff)\n",
        "print(\"Średnia różnica bezwzględna względem 0 dla średnich kolumn:\", col_mean_abs_diff)"
      ],
      "metadata": {
        "colab": {
          "base_uri": "https://localhost:8080/"
        },
        "id": "ApOFb1PuMS8S",
        "outputId": "74208e93-65ea-4651-9298-0b91804db891"
      },
      "execution_count": 18,
      "outputs": [
        {
          "output_type": "stream",
          "name": "stdout",
          "text": [
            "Średnia różnica bezwzględna względem 0 dla średnich wierszy: 0.08396003394284814\n",
            "Średnia różnica bezwzględna względem 0 dla średnich kolumn: 0.07857740478030868\n"
          ]
        }
      ]
    },
    {
      "cell_type": "code",
      "source": [
        "# Zad 9\n",
        "\"\"\"Stwórz tablicę o wymiarach 1000x1000\n",
        "uzupełniając ją wartościami losowymi z rozkładu\n",
        "normalnego standardowego, a następnie posiłkując\n",
        "się przykładami z labów poprzednich (moduł timeit)\n",
        "porównaj czasy wykonania dla tej tablicy:\n",
        "\n",
        "zapisu do pliku tekstowego vs. zapis do pliku\n",
        "w formacie picle vs. zapis do pliku skompresowanego\n",
        "(funkcja savez_compressed w dokumentacji biblioteki numpy)\n",
        "odczytu dla trzech wyżej wymienionych plików.\"\"\""
      ],
      "metadata": {
        "id": "sYAVvvm4MTgZ",
        "colab": {
          "base_uri": "https://localhost:8080/",
          "height": 122
        },
        "outputId": "b3331dba-a453-466e-b726-807fd10431db"
      },
      "execution_count": 19,
      "outputs": [
        {
          "output_type": "execute_result",
          "data": {
            "text/plain": [
              "'Stwórz tablicę o wymiarach 1000x1000\\nuzupełniając ją wartościami losowymi z rozkładu\\nnormalnego standardowego, a następnie posiłkując\\nsię przykładami z labów poprzednich (moduł timeit)\\nporównaj czasy wykonania dla tej tablicy:\\n\\nzapisu do pliku tekstowego vs. zapis do pliku\\nw formacie picle vs. zapis do pliku skompresowanego\\n(funkcja savez_compressed w dokumentacji biblioteki numpy)\\nodczytu dla trzech wyżej wymienionych plików.'"
            ],
            "application/vnd.google.colaboratory.intrinsic+json": {
              "type": "string"
            }
          },
          "metadata": {},
          "execution_count": 19
        }
      ]
    },
    {
      "cell_type": "code",
      "source": [
        "data = np.random.randn(1000, 1000)\n",
        "\n",
        "# Funkcje do zapisu\n",
        "\n",
        "def save_txt():\n",
        "    np.savetxt(\"data.txt\", data)\n",
        "\n",
        "def save_pickle():\n",
        "    with open(\"data.pkl\", \"wb\") as f:\n",
        "        pickle.dump(data, f)\n",
        "\n",
        "def save_compressed():\n",
        "    np.savez_compressed(\"data_compressed.npz\", data)\n",
        "\n",
        "# Funkcje do odczytu\n",
        "\n",
        "def load_txt():\n",
        "    np.loadtxt(\"data.txt\")\n",
        "\n",
        "def load_pickle():\n",
        "    with open(\"data.pkl\", \"rb\") as f:\n",
        "        pickle.load(f)\n",
        "\n",
        "def load_compressed():\n",
        "    np.load(\"data_compressed.npz\")['arr_0']\n",
        "\n",
        "# Pomiar czasu\n",
        "print(\"Czasy zapisu:\")\n",
        "print(\"Zapis do TXT:\", timeit.timeit(save_txt, number=1))\n",
        "print(\"Zapis do Pickle:\", timeit.timeit(save_pickle, number=1))\n",
        "print(\"Zapis do skompresowanego pliku:\", timeit.timeit(save_compressed, number=1))\n",
        "\n",
        "print(\"\\nCzasy odczytu:\")\n",
        "print(\"Odczyt z TXT:\", timeit.timeit(load_txt, number=1))\n",
        "print(\"Odczyt z Pickle:\", timeit.timeit(load_pickle, number=1))\n",
        "print(\"Odczyt z pliku skompresowanego:\", timeit.timeit(load_compressed, number=1))"
      ],
      "metadata": {
        "id": "vJ71PiXSMcvY",
        "colab": {
          "base_uri": "https://localhost:8080/"
        },
        "outputId": "192576e4-ebad-48d9-886e-bfc8e7519593"
      },
      "execution_count": 20,
      "outputs": [
        {
          "output_type": "stream",
          "name": "stdout",
          "text": [
            "Czasy zapisu:\n",
            "Zapis do TXT: 4.0943896480000035\n",
            "Zapis do Pickle: 0.0222485660000018\n",
            "Zapis do skompresowanego pliku: 1.7192262270000072\n",
            "\n",
            "Czasy odczytu:\n",
            "Odczyt z TXT: 1.0528748609999923\n",
            "Odczyt z Pickle: 0.00456979500000898\n",
            "Odczyt z pliku skompresowanego: 0.0781661020000115\n"
          ]
        }
      ]
    }
  ]
}