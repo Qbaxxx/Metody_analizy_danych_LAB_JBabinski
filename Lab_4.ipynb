{
  "nbformat": 4,
  "nbformat_minor": 0,
  "metadata": {
    "colab": {
      "provenance": [],
      "authorship_tag": "ABX9TyNuHJTvmREEV2Kgc+E5n+J3",
      "include_colab_link": true
    },
    "kernelspec": {
      "name": "python3",
      "display_name": "Python 3"
    },
    "language_info": {
      "name": "python"
    }
  },
  "cells": [
    {
      "cell_type": "markdown",
      "metadata": {
        "id": "view-in-github",
        "colab_type": "text"
      },
      "source": [
        "<a href=\"https://colab.research.google.com/github/Qbaxxx/Metody_analizy_danych_LAB_JBabinski/blob/main/Lab_4.ipynb\" target=\"_parent\"><img src=\"https://colab.research.google.com/assets/colab-badge.svg\" alt=\"Open In Colab\"/></a>"
      ]
    },
    {
      "cell_type": "code",
      "source": [
        "import pandas as pd\n",
        "import numpy as np"
      ],
      "metadata": {
        "id": "bw1AkKrTCdvB"
      },
      "execution_count": 18,
      "outputs": []
    },
    {
      "cell_type": "markdown",
      "source": [
        "Zadanie 1"
      ],
      "metadata": {
        "id": "gijs1UlwB8VK"
      }
    },
    {
      "cell_type": "code",
      "execution_count": 19,
      "metadata": {
        "colab": {
          "base_uri": "https://localhost:8080/"
        },
        "id": "PlErZiBMBmWv",
        "outputId": "f52b3da2-60da-4dd5-ee95-485864d82d7a"
      },
      "outputs": [
        {
          "output_type": "stream",
          "name": "stdout",
          "text": [
            "ean_001      1\n",
            "ean_002      2\n",
            "ean_003      3\n",
            "ean_004      4\n",
            "ean_005      5\n",
            "          ... \n",
            "ean_096     96\n",
            "ean_097     97\n",
            "ean_098     98\n",
            "ean_099     99\n",
            "ean_100    100\n",
            "Length: 100, dtype: int64\n"
          ]
        }
      ],
      "source": [
        "# Generowanie indeksów od ean_001 do ean_100\n",
        "index = [f'ean_{i:03}' for i in range(1, 101)]\n",
        "\n",
        "# Generowanie danych od 1 do 100\n",
        "data = list(range(1, 101))\n",
        "\n",
        "# Tworzenie serii\n",
        "series = pd.Series(data=data, index=index)\n",
        "\n",
        "print(series)"
      ]
    },
    {
      "cell_type": "markdown",
      "source": [
        "Zadanie 2"
      ],
      "metadata": {
        "id": "ttHqQELLCJLt"
      }
    },
    {
      "cell_type": "code",
      "source": [
        "# Tworzenie podstaw (1 do 10) jako kolumna\n",
        "base = np.arange(1, 11).reshape(-1, 1)\n",
        "\n",
        "# Tworzenie tablicy z potęgami od 1 do 10 (czyli base^1, base^2, ..., base^10)\n",
        "data = base ** np.arange(1, 11)\n",
        "\n",
        "# Tworzenie nazw kolumn\n",
        "columns = ['base'] + [f'pow_{i}' for i in range(2, 11)]\n",
        "\n",
        "# Konwersja do DataFrame\n",
        "df = pd.DataFrame(data, columns=columns)\n",
        "\n",
        "print(df)"
      ],
      "metadata": {
        "colab": {
          "base_uri": "https://localhost:8080/"
        },
        "id": "s4WJP_IRCLjh",
        "outputId": "0cff19de-e384-494b-be8b-6ad8ee17853a"
      },
      "execution_count": 20,
      "outputs": [
        {
          "output_type": "stream",
          "name": "stdout",
          "text": [
            "   base  pow_2  pow_3  pow_4   pow_5    pow_6     pow_7      pow_8  \\\n",
            "0     1      1      1      1       1        1         1          1   \n",
            "1     2      4      8     16      32       64       128        256   \n",
            "2     3      9     27     81     243      729      2187       6561   \n",
            "3     4     16     64    256    1024     4096     16384      65536   \n",
            "4     5     25    125    625    3125    15625     78125     390625   \n",
            "5     6     36    216   1296    7776    46656    279936    1679616   \n",
            "6     7     49    343   2401   16807   117649    823543    5764801   \n",
            "7     8     64    512   4096   32768   262144   2097152   16777216   \n",
            "8     9     81    729   6561   59049   531441   4782969   43046721   \n",
            "9    10    100   1000  10000  100000  1000000  10000000  100000000   \n",
            "\n",
            "        pow_9       pow_10  \n",
            "0           1            1  \n",
            "1         512         1024  \n",
            "2       19683        59049  \n",
            "3      262144      1048576  \n",
            "4     1953125      9765625  \n",
            "5    10077696     60466176  \n",
            "6    40353607    282475249  \n",
            "7   134217728   1073741824  \n",
            "8   387420489   3486784401  \n",
            "9  1000000000  10000000000  \n"
          ]
        }
      ]
    },
    {
      "cell_type": "markdown",
      "source": [
        "Zadanie 3"
      ],
      "metadata": {
        "id": "wy3KynlDCln5"
      }
    },
    {
      "cell_type": "code",
      "source": [
        "# Tworzymy tablicę numpy\n",
        "base = np.arange(1, 11).reshape(-1, 1)\n",
        "data = base ** np.arange(1, 11)\n",
        "\n",
        "# Sprawdzamy, czy DataFrame współdzieli pamięć z numpy array\n",
        "df = pd.DataFrame(data, columns=['base'] + [f'pow_{i}' for i in range(2, 11)])\n",
        "shared = np.shares_memory(df.values, data)\n",
        "\n",
        "print(\"Czy dane są współdzielone?\", shared)"
      ],
      "metadata": {
        "colab": {
          "base_uri": "https://localhost:8080/"
        },
        "id": "tiotQgtkCnii",
        "outputId": "be7c9697-5559-4dc1-f408-4b2b968dcc65"
      },
      "execution_count": 21,
      "outputs": [
        {
          "output_type": "stream",
          "name": "stdout",
          "text": [
            "Czy dane są współdzielone? True\n"
          ]
        }
      ]
    },
    {
      "cell_type": "markdown",
      "source": [
        "Zadanie 4"
      ],
      "metadata": {
        "id": "NnPGp1fHDOY4"
      }
    },
    {
      "cell_type": "code",
      "source": [
        "# Dane z poprzedniego zadania\n",
        "base = np.arange(1, 11).reshape(-1, 1)\n",
        "data = base ** np.arange(1, 11)\n",
        "df = pd.DataFrame(data, columns=['base'] + [f'pow_{i}' for i in range(2, 11)])\n",
        "\n",
        "# Sprawdzenie typu danych\n",
        "print(df.dtypes)\n",
        "print(f\"Rozmiar danych przed konwersją: {df.memory_usage(deep=True).sum()} bajtów\")"
      ],
      "metadata": {
        "colab": {
          "base_uri": "https://localhost:8080/"
        },
        "id": "vTjv0gaSDTOu",
        "outputId": "7796539a-8c1b-4e27-97c7-ab11fe373079"
      },
      "execution_count": 22,
      "outputs": [
        {
          "output_type": "stream",
          "name": "stdout",
          "text": [
            "base      int64\n",
            "pow_2     int64\n",
            "pow_3     int64\n",
            "pow_4     int64\n",
            "pow_5     int64\n",
            "pow_6     int64\n",
            "pow_7     int64\n",
            "pow_8     int64\n",
            "pow_9     int64\n",
            "pow_10    int64\n",
            "dtype: object\n",
            "Rozmiar danych przed konwersją: 932 bajtów\n"
          ]
        }
      ]
    },
    {
      "cell_type": "markdown",
      "source": [
        "Zadanie 5"
      ],
      "metadata": {
        "id": "8Fp4ny1vDcw0"
      }
    },
    {
      "cell_type": "code",
      "source": [
        "# Wczytanie danych z pliku\n",
        "iris = pd.read_csv('iris.data', header=None)\n",
        "\n",
        "# Przypisanie nazw kolumn\n",
        "iris.columns = ['sepal_length', 'sepal_width', 'petal_length', 'petal_width', 'class']\n",
        "\n",
        "print(iris.head())"
      ],
      "metadata": {
        "colab": {
          "base_uri": "https://localhost:8080/"
        },
        "id": "5U7ArtqZDeIG",
        "outputId": "f8b3b05e-3cae-455a-808c-c5ef340118ef"
      },
      "execution_count": 23,
      "outputs": [
        {
          "output_type": "stream",
          "name": "stdout",
          "text": [
            "         sepal_length        sepal_width        petal_length  \\\n",
            "0  sepal length in cm  sepal width in cm  petal length in cm   \n",
            "1                 5.1                3.5                 1.4   \n",
            "2                 4.9                3.0                 1.4   \n",
            "3                 4.7                3.2                 1.3   \n",
            "4                 4.6                3.1                 1.5   \n",
            "\n",
            "         petal_width        class  \n",
            "0  petal width in cm        class  \n",
            "1                0.2  Iris-setosa  \n",
            "2                0.2  Iris-setosa  \n",
            "3                0.2  Iris-setosa  \n",
            "4                0.2  Iris-setosa  \n"
          ]
        }
      ]
    },
    {
      "cell_type": "markdown",
      "source": [
        "Zadanie 6"
      ],
      "metadata": {
        "id": "k786nx9wD58a"
      }
    },
    {
      "cell_type": "code",
      "source": [
        "# Zamiana spacji na podkreślniki w nazwach kolumn\n",
        "iris.columns = iris.columns.str.replace(' ', '_')\n",
        "\n",
        "# Wyświetlenie pierwszych 10 wierszy\n",
        "print(iris.head(10))\n"
      ],
      "metadata": {
        "colab": {
          "base_uri": "https://localhost:8080/"
        },
        "id": "UUCn7xq_D8a9",
        "outputId": "d62656c8-210b-483b-907c-7e28f875b81d"
      },
      "execution_count": 24,
      "outputs": [
        {
          "output_type": "stream",
          "name": "stdout",
          "text": [
            "         sepal_length        sepal_width        petal_length  \\\n",
            "0  sepal length in cm  sepal width in cm  petal length in cm   \n",
            "1                 5.1                3.5                 1.4   \n",
            "2                 4.9                3.0                 1.4   \n",
            "3                 4.7                3.2                 1.3   \n",
            "4                 4.6                3.1                 1.5   \n",
            "5                 5.0                3.6                 1.4   \n",
            "6                 5.4                3.9                 1.7   \n",
            "7                 4.6                3.4                 1.4   \n",
            "8                 5.0                3.4                 1.5   \n",
            "9                 4.4                2.9                 1.4   \n",
            "\n",
            "         petal_width        class  \n",
            "0  petal width in cm        class  \n",
            "1                0.2  Iris-setosa  \n",
            "2                0.2  Iris-setosa  \n",
            "3                0.2  Iris-setosa  \n",
            "4                0.2  Iris-setosa  \n",
            "5                0.2  Iris-setosa  \n",
            "6                0.4  Iris-setosa  \n",
            "7                0.3  Iris-setosa  \n",
            "8                0.2  Iris-setosa  \n",
            "9                0.2  Iris-setosa  \n"
          ]
        }
      ]
    },
    {
      "cell_type": "markdown",
      "source": [
        "Zadanie 7"
      ],
      "metadata": {
        "id": "pA4I10EFFbbx"
      }
    },
    {
      "cell_type": "code",
      "source": [
        "# 1. Sprawdzenie zużycia pamięci przez oryginalną ramkę\n",
        "print(\"Pamięć - iris:\")\n",
        "print(iris.memory_usage())  # bez deep\n",
        "print(iris.memory_usage(deep=True))  # z deep\n",
        "\n",
        "# 2. Tworzymy ramkę z floatami typu float32\n",
        "iris_smaller = iris.copy()\n",
        "float_cols = iris_smaller.select_dtypes(include='float')\n",
        "iris_smaller[float_cols.columns] = float_cols.astype('float32')\n",
        "\n",
        "# 3. Sprawdzenie pamięci po konwersji\n",
        "print(\"\\nPamięć - iris_smaller:\")\n",
        "print(iris_smaller.memory_usage())  # bez deep\n",
        "print(iris_smaller.memory_usage(deep=True))  # z deep\n"
      ],
      "metadata": {
        "colab": {
          "base_uri": "https://localhost:8080/"
        },
        "id": "DWphQTpDFwCr",
        "outputId": "572115c3-1434-4fa2-a7cf-42aa05b02452"
      },
      "execution_count": 25,
      "outputs": [
        {
          "output_type": "stream",
          "name": "stdout",
          "text": [
            "Pamięć - iris:\n",
            "Index            132\n",
            "sepal_length    1208\n",
            "sepal_width     1208\n",
            "petal_length    1208\n",
            "petal_width     1208\n",
            "class           1208\n",
            "dtype: int64\n",
            "Index             132\n",
            "sepal_length     9075\n",
            "sepal_width      9074\n",
            "petal_length     9075\n",
            "petal_width      9074\n",
            "class           10612\n",
            "dtype: int64\n",
            "\n",
            "Pamięć - iris_smaller:\n",
            "Index            132\n",
            "sepal_length    1208\n",
            "sepal_width     1208\n",
            "petal_length    1208\n",
            "petal_width     1208\n",
            "class           1208\n",
            "dtype: int64\n",
            "Index             132\n",
            "sepal_length     9075\n",
            "sepal_width      9074\n",
            "petal_length     9075\n",
            "petal_width      9074\n",
            "class           10612\n",
            "dtype: int64\n"
          ]
        }
      ]
    },
    {
      "cell_type": "markdown",
      "source": [
        "Zadanie 8"
      ],
      "metadata": {
        "id": "Q8JbkQxDGTEx"
      }
    },
    {
      "cell_type": "code",
      "source": [
        "# Zapis ramki do schowka\n",
        "iris.to_clipboard(index=False)  # bez indeksu, żeby łatwiej wkleić do Excela\n",
        "\n",
        "# Wczytanie danych ze schowka\n",
        "df_from_clipboard = pd.read_clipboard()\n",
        "\n",
        "# Wyświetlenie pierwszych 5 wierszy\n",
        "print(df_from_clipboard.head())"
      ],
      "metadata": {
        "colab": {
          "base_uri": "https://localhost:8080/",
          "height": 444
        },
        "id": "39eMD1L4G2E_",
        "outputId": "51867073-4cf6-481a-8cfc-caef36310180"
      },
      "execution_count": 28,
      "outputs": [
        {
          "output_type": "error",
          "ename": "PyperclipException",
          "evalue": "\n    Pyperclip could not find a copy/paste mechanism for your system.\n    For more information, please visit\n    https://pyperclip.readthedocs.io/en/latest/index.html#not-implemented-error\n    ",
          "traceback": [
            "\u001b[0;31m---------------------------------------------------------------------------\u001b[0m",
            "\u001b[0;31mPyperclipException\u001b[0m                        Traceback (most recent call last)",
            "\u001b[0;32m<ipython-input-28-5d3a9d4fefdf>\u001b[0m in \u001b[0;36m<cell line: 0>\u001b[0;34m()\u001b[0m\n\u001b[1;32m      1\u001b[0m \u001b[0;31m# Zapis ramki do schowka\u001b[0m\u001b[0;34m\u001b[0m\u001b[0;34m\u001b[0m\u001b[0m\n\u001b[0;32m----> 2\u001b[0;31m \u001b[0miris\u001b[0m\u001b[0;34m.\u001b[0m\u001b[0mto_clipboard\u001b[0m\u001b[0;34m(\u001b[0m\u001b[0mindex\u001b[0m\u001b[0;34m=\u001b[0m\u001b[0;32mFalse\u001b[0m\u001b[0;34m)\u001b[0m  \u001b[0;31m# bez indeksu, żeby łatwiej wkleić do Excela\u001b[0m\u001b[0;34m\u001b[0m\u001b[0;34m\u001b[0m\u001b[0m\n\u001b[0m\u001b[1;32m      3\u001b[0m \u001b[0;34m\u001b[0m\u001b[0m\n\u001b[1;32m      4\u001b[0m \u001b[0;31m# Wczytanie danych ze schowka\u001b[0m\u001b[0;34m\u001b[0m\u001b[0;34m\u001b[0m\u001b[0m\n\u001b[1;32m      5\u001b[0m \u001b[0mdf_from_clipboard\u001b[0m \u001b[0;34m=\u001b[0m \u001b[0mpd\u001b[0m\u001b[0;34m.\u001b[0m\u001b[0mread_clipboard\u001b[0m\u001b[0;34m(\u001b[0m\u001b[0;34m)\u001b[0m\u001b[0;34m\u001b[0m\u001b[0;34m\u001b[0m\u001b[0m\n",
            "\u001b[0;32m/usr/local/lib/python3.11/dist-packages/pandas/util/_decorators.py\u001b[0m in \u001b[0;36mwrapper\u001b[0;34m(*args, **kwargs)\u001b[0m\n\u001b[1;32m    331\u001b[0m                     \u001b[0mstacklevel\u001b[0m\u001b[0;34m=\u001b[0m\u001b[0mfind_stack_level\u001b[0m\u001b[0;34m(\u001b[0m\u001b[0;34m)\u001b[0m\u001b[0;34m,\u001b[0m\u001b[0;34m\u001b[0m\u001b[0;34m\u001b[0m\u001b[0m\n\u001b[1;32m    332\u001b[0m                 )\n\u001b[0;32m--> 333\u001b[0;31m             \u001b[0;32mreturn\u001b[0m \u001b[0mfunc\u001b[0m\u001b[0;34m(\u001b[0m\u001b[0;34m*\u001b[0m\u001b[0margs\u001b[0m\u001b[0;34m,\u001b[0m \u001b[0;34m**\u001b[0m\u001b[0mkwargs\u001b[0m\u001b[0;34m)\u001b[0m\u001b[0;34m\u001b[0m\u001b[0;34m\u001b[0m\u001b[0m\n\u001b[0m\u001b[1;32m    334\u001b[0m \u001b[0;34m\u001b[0m\u001b[0m\n\u001b[1;32m    335\u001b[0m         \u001b[0;31m# error: \"Callable[[VarArg(Any), KwArg(Any)], Any]\" has no\u001b[0m\u001b[0;34m\u001b[0m\u001b[0;34m\u001b[0m\u001b[0m\n",
            "\u001b[0;32m/usr/local/lib/python3.11/dist-packages/pandas/core/generic.py\u001b[0m in \u001b[0;36mto_clipboard\u001b[0;34m(self, excel, sep, **kwargs)\u001b[0m\n\u001b[1;32m   3245\u001b[0m         \u001b[0;32mfrom\u001b[0m \u001b[0mpandas\u001b[0m\u001b[0;34m.\u001b[0m\u001b[0mio\u001b[0m \u001b[0;32mimport\u001b[0m \u001b[0mclipboards\u001b[0m\u001b[0;34m\u001b[0m\u001b[0;34m\u001b[0m\u001b[0m\n\u001b[1;32m   3246\u001b[0m \u001b[0;34m\u001b[0m\u001b[0m\n\u001b[0;32m-> 3247\u001b[0;31m         \u001b[0mclipboards\u001b[0m\u001b[0;34m.\u001b[0m\u001b[0mto_clipboard\u001b[0m\u001b[0;34m(\u001b[0m\u001b[0mself\u001b[0m\u001b[0;34m,\u001b[0m \u001b[0mexcel\u001b[0m\u001b[0;34m=\u001b[0m\u001b[0mexcel\u001b[0m\u001b[0;34m,\u001b[0m \u001b[0msep\u001b[0m\u001b[0;34m=\u001b[0m\u001b[0msep\u001b[0m\u001b[0;34m,\u001b[0m \u001b[0;34m**\u001b[0m\u001b[0mkwargs\u001b[0m\u001b[0;34m)\u001b[0m\u001b[0;34m\u001b[0m\u001b[0;34m\u001b[0m\u001b[0m\n\u001b[0m\u001b[1;32m   3248\u001b[0m \u001b[0;34m\u001b[0m\u001b[0m\n\u001b[1;32m   3249\u001b[0m     \u001b[0;34m@\u001b[0m\u001b[0mfinal\u001b[0m\u001b[0;34m\u001b[0m\u001b[0;34m\u001b[0m\u001b[0m\n",
            "\u001b[0;32m/usr/local/lib/python3.11/dist-packages/pandas/io/clipboards.py\u001b[0m in \u001b[0;36mto_clipboard\u001b[0;34m(obj, excel, sep, **kwargs)\u001b[0m\n\u001b[1;32m    176\u001b[0m             \u001b[0mtext\u001b[0m \u001b[0;34m=\u001b[0m \u001b[0mbuf\u001b[0m\u001b[0;34m.\u001b[0m\u001b[0mgetvalue\u001b[0m\u001b[0;34m(\u001b[0m\u001b[0;34m)\u001b[0m\u001b[0;34m\u001b[0m\u001b[0;34m\u001b[0m\u001b[0m\n\u001b[1;32m    177\u001b[0m \u001b[0;34m\u001b[0m\u001b[0m\n\u001b[0;32m--> 178\u001b[0;31m             \u001b[0mclipboard_set\u001b[0m\u001b[0;34m(\u001b[0m\u001b[0mtext\u001b[0m\u001b[0;34m)\u001b[0m\u001b[0;34m\u001b[0m\u001b[0;34m\u001b[0m\u001b[0m\n\u001b[0m\u001b[1;32m    179\u001b[0m             \u001b[0;32mreturn\u001b[0m\u001b[0;34m\u001b[0m\u001b[0;34m\u001b[0m\u001b[0m\n\u001b[1;32m    180\u001b[0m         \u001b[0;32mexcept\u001b[0m \u001b[0mTypeError\u001b[0m\u001b[0;34m:\u001b[0m\u001b[0;34m\u001b[0m\u001b[0;34m\u001b[0m\u001b[0m\n",
            "\u001b[0;32m/usr/local/lib/python3.11/dist-packages/pandas/io/clipboard/__init__.py\u001b[0m in \u001b[0;36mlazy_load_stub_copy\u001b[0;34m(text)\u001b[0m\n\u001b[1;32m    657\u001b[0m     \u001b[0;32mglobal\u001b[0m \u001b[0mcopy\u001b[0m\u001b[0;34m,\u001b[0m \u001b[0mpaste\u001b[0m\u001b[0;34m\u001b[0m\u001b[0;34m\u001b[0m\u001b[0m\n\u001b[1;32m    658\u001b[0m     \u001b[0mcopy\u001b[0m\u001b[0;34m,\u001b[0m \u001b[0mpaste\u001b[0m \u001b[0;34m=\u001b[0m \u001b[0mdetermine_clipboard\u001b[0m\u001b[0;34m(\u001b[0m\u001b[0;34m)\u001b[0m\u001b[0;34m\u001b[0m\u001b[0;34m\u001b[0m\u001b[0m\n\u001b[0;32m--> 659\u001b[0;31m     \u001b[0;32mreturn\u001b[0m \u001b[0mcopy\u001b[0m\u001b[0;34m(\u001b[0m\u001b[0mtext\u001b[0m\u001b[0;34m)\u001b[0m\u001b[0;34m\u001b[0m\u001b[0;34m\u001b[0m\u001b[0m\n\u001b[0m\u001b[1;32m    660\u001b[0m \u001b[0;34m\u001b[0m\u001b[0m\n\u001b[1;32m    661\u001b[0m \u001b[0;34m\u001b[0m\u001b[0m\n",
            "\u001b[0;32m/usr/local/lib/python3.11/dist-packages/pandas/io/clipboard/__init__.py\u001b[0m in \u001b[0;36m__call__\u001b[0;34m(self, *args, **kwargs)\u001b[0m\n\u001b[1;32m    314\u001b[0m     \u001b[0;32mclass\u001b[0m \u001b[0mClipboardUnavailable\u001b[0m\u001b[0;34m:\u001b[0m\u001b[0;34m\u001b[0m\u001b[0;34m\u001b[0m\u001b[0m\n\u001b[1;32m    315\u001b[0m         \u001b[0;32mdef\u001b[0m \u001b[0m__call__\u001b[0m\u001b[0;34m(\u001b[0m\u001b[0mself\u001b[0m\u001b[0;34m,\u001b[0m \u001b[0;34m*\u001b[0m\u001b[0margs\u001b[0m\u001b[0;34m,\u001b[0m \u001b[0;34m**\u001b[0m\u001b[0mkwargs\u001b[0m\u001b[0;34m)\u001b[0m\u001b[0;34m:\u001b[0m\u001b[0;34m\u001b[0m\u001b[0;34m\u001b[0m\u001b[0m\n\u001b[0;32m--> 316\u001b[0;31m             \u001b[0;32mraise\u001b[0m \u001b[0mPyperclipException\u001b[0m\u001b[0;34m(\u001b[0m\u001b[0mEXCEPT_MSG\u001b[0m\u001b[0;34m)\u001b[0m\u001b[0;34m\u001b[0m\u001b[0;34m\u001b[0m\u001b[0m\n\u001b[0m\u001b[1;32m    317\u001b[0m \u001b[0;34m\u001b[0m\u001b[0m\n\u001b[1;32m    318\u001b[0m         \u001b[0;32mdef\u001b[0m \u001b[0m__bool__\u001b[0m\u001b[0;34m(\u001b[0m\u001b[0mself\u001b[0m\u001b[0;34m)\u001b[0m \u001b[0;34m->\u001b[0m \u001b[0mbool\u001b[0m\u001b[0;34m:\u001b[0m\u001b[0;34m\u001b[0m\u001b[0;34m\u001b[0m\u001b[0m\n",
            "\u001b[0;31mPyperclipException\u001b[0m: \n    Pyperclip could not find a copy/paste mechanism for your system.\n    For more information, please visit\n    https://pyperclip.readthedocs.io/en/latest/index.html#not-implemented-error\n    "
          ]
        }
      ]
    },
    {
      "cell_type": "markdown",
      "source": [
        "Zadanie 9"
      ],
      "metadata": {
        "id": "iEQ7PyUEHGxs"
      }
    },
    {
      "cell_type": "code",
      "source": [
        "# Zapis do formatu JSON\n",
        "iris.to_json(\"iris.json\", orient=\"records\", lines=True)\n",
        "\n",
        "# Zapis do formatu pickle\n",
        "iris.to_pickle(\"iris.pkl\")\n",
        "\n",
        "# Zapis do formatu parquet\n",
        "iris.to_parquet(\"iris.parquet\", engine=\"pyarrow\")"
      ],
      "metadata": {
        "id": "5IK0mXJeHGFv"
      },
      "execution_count": 27,
      "outputs": []
    }
  ]
}