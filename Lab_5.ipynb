{
  "nbformat": 4,
  "nbformat_minor": 0,
  "metadata": {
    "colab": {
      "provenance": [],
      "authorship_tag": "ABX9TyO7hQSBY/1izC+bXO34QSNT",
      "include_colab_link": true
    },
    "kernelspec": {
      "name": "python3",
      "display_name": "Python 3"
    },
    "language_info": {
      "name": "python"
    }
  },
  "cells": [
    {
      "cell_type": "markdown",
      "metadata": {
        "id": "view-in-github",
        "colab_type": "text"
      },
      "source": [
        "<a href=\"https://colab.research.google.com/github/Qbaxxx/Metody_analizy_danych_LAB_JBabinski/blob/main/Lab_5.ipynb\" target=\"_parent\"><img src=\"https://colab.research.google.com/assets/colab-badge.svg\" alt=\"Open In Colab\"/></a>"
      ]
    },
    {
      "cell_type": "code",
      "execution_count": 1,
      "metadata": {
        "id": "10P0OveDQR01"
      },
      "outputs": [],
      "source": [
        "import pandas as pd"
      ]
    },
    {
      "cell_type": "code",
      "source": [
        "df = pd.read_csv(\"loan_data.csv\")"
      ],
      "metadata": {
        "id": "qpsn3J4SR8fq"
      },
      "execution_count": 2,
      "outputs": []
    },
    {
      "cell_type": "markdown",
      "source": [
        "Zadanie 1"
      ],
      "metadata": {
        "id": "HVKB-IGxWYHS"
      }
    },
    {
      "cell_type": "code",
      "source": [
        "df.rename(columns={\"loan_amnt\": \"loan_amount\"}, inplace=True)"
      ],
      "metadata": {
        "id": "P0-E9yqnR_VI"
      },
      "execution_count": 3,
      "outputs": []
    },
    {
      "cell_type": "markdown",
      "source": [
        "Zadanie 2"
      ],
      "metadata": {
        "id": "Z8GY55i3WfI6"
      }
    },
    {
      "cell_type": "code",
      "source": [
        "zad2_a = df[['person_gender', 'person_age', 'person_income']]"
      ],
      "metadata": {
        "id": "thtZ1TXISBI3"
      },
      "execution_count": 4,
      "outputs": []
    },
    {
      "cell_type": "code",
      "source": [
        "zad2_b = df.iloc[1000:2001]"
      ],
      "metadata": {
        "id": "6nTx2ikLSCXA"
      },
      "execution_count": 5,
      "outputs": []
    },
    {
      "cell_type": "code",
      "source": [
        "zad2_c = df.iloc[::2]"
      ],
      "metadata": {
        "id": "DhrBcGNPSDb_"
      },
      "execution_count": 6,
      "outputs": []
    },
    {
      "cell_type": "code",
      "source": [
        "zad2_d = df[df.index % 2 == 0]"
      ],
      "metadata": {
        "id": "XaBgmFEkSEfI"
      },
      "execution_count": 7,
      "outputs": []
    },
    {
      "cell_type": "code",
      "source": [
        "zad2_e = df.iloc[:, [0, -1]]"
      ],
      "metadata": {
        "id": "ZSjpDcj-SFXC"
      },
      "execution_count": 8,
      "outputs": []
    },
    {
      "cell_type": "code",
      "source": [
        "print(\"2a:\\n\", zad2_a.head())\n",
        "print(\"2b:\\n\", zad2_b.head())\n",
        "print(\"2c:\\n\", zad2_c.head())\n",
        "print(\"2d:\\n\", zad2_d.head())\n",
        "print(\"2e:\\n\", zad2_e.head())"
      ],
      "metadata": {
        "colab": {
          "base_uri": "https://localhost:8080/"
        },
        "id": "M5nWIGU9SF74",
        "outputId": "b2605b00-91b5-4dfd-a428-2b81f35bbfaf"
      },
      "execution_count": 9,
      "outputs": [
        {
          "output_type": "stream",
          "name": "stdout",
          "text": [
            "2a:\n",
            "   person_gender  person_age  person_income\n",
            "0        female        22.0        71948.0\n",
            "1        female        21.0        12282.0\n",
            "2        female        25.0        12438.0\n",
            "3        female        23.0        79753.0\n",
            "4          male        24.0        66135.0\n",
            "2b:\n",
            "       person_age person_gender person_education  person_income  \\\n",
            "1000        23.0          male         Bachelor        30059.0   \n",
            "1001        24.0          male         Bachelor        68258.0   \n",
            "1002        21.0          male         Bachelor        60821.0   \n",
            "1003        25.0          male      High School        70432.0   \n",
            "1004        21.0        female         Bachelor        63842.0   \n",
            "\n",
            "      person_emp_exp person_home_ownership  loan_amount loan_intent  \\\n",
            "1000               0              MORTGAGE       1375.0     MEDICAL   \n",
            "1001               2                  RENT      18000.0   EDUCATION   \n",
            "1002               0                  RENT      18000.0   EDUCATION   \n",
            "1003               6                  RENT      18000.0     VENTURE   \n",
            "1004               0                  RENT      18000.0     MEDICAL   \n",
            "\n",
            "      loan_int_rate  loan_percent_income  cb_person_cred_hist_length  \\\n",
            "1000          11.11                 0.05                         4.0   \n",
            "1001          13.48                 0.26                         3.0   \n",
            "1002          14.74                 0.30                         2.0   \n",
            "1003          11.01                 0.26                         4.0   \n",
            "1004          19.69                 0.28                         2.0   \n",
            "\n",
            "      credit_score previous_loan_defaults_on_file  loan_status  \n",
            "1000           506                             No            1  \n",
            "1001           671                             No            1  \n",
            "1002           530                             No            1  \n",
            "1003           609                             No            1  \n",
            "1004           678                             No            1  \n",
            "2c:\n",
            "    person_age person_gender person_education  person_income  person_emp_exp  \\\n",
            "0        22.0        female           Master        71948.0               0   \n",
            "2        25.0        female      High School        12438.0               3   \n",
            "4        24.0          male           Master        66135.0               1   \n",
            "6        26.0        female         Bachelor        93471.0               1   \n",
            "8        24.0        female        Associate       100684.0               3   \n",
            "\n",
            "  person_home_ownership  loan_amount loan_intent  loan_int_rate  \\\n",
            "0                  RENT      35000.0    PERSONAL          16.02   \n",
            "2              MORTGAGE       5500.0     MEDICAL          12.87   \n",
            "4                  RENT      35000.0     MEDICAL          14.27   \n",
            "6                  RENT      35000.0   EDUCATION          12.42   \n",
            "8                  RENT      35000.0    PERSONAL           8.90   \n",
            "\n",
            "   loan_percent_income  cb_person_cred_hist_length  credit_score  \\\n",
            "0                 0.49                         3.0           561   \n",
            "2                 0.44                         3.0           635   \n",
            "4                 0.53                         4.0           586   \n",
            "6                 0.37                         3.0           701   \n",
            "8                 0.35                         2.0           544   \n",
            "\n",
            "  previous_loan_defaults_on_file  loan_status  \n",
            "0                             No            1  \n",
            "2                             No            1  \n",
            "4                             No            1  \n",
            "6                             No            1  \n",
            "8                             No            1  \n",
            "2d:\n",
            "    person_age person_gender person_education  person_income  person_emp_exp  \\\n",
            "0        22.0        female           Master        71948.0               0   \n",
            "2        25.0        female      High School        12438.0               3   \n",
            "4        24.0          male           Master        66135.0               1   \n",
            "6        26.0        female         Bachelor        93471.0               1   \n",
            "8        24.0        female        Associate       100684.0               3   \n",
            "\n",
            "  person_home_ownership  loan_amount loan_intent  loan_int_rate  \\\n",
            "0                  RENT      35000.0    PERSONAL          16.02   \n",
            "2              MORTGAGE       5500.0     MEDICAL          12.87   \n",
            "4                  RENT      35000.0     MEDICAL          14.27   \n",
            "6                  RENT      35000.0   EDUCATION          12.42   \n",
            "8                  RENT      35000.0    PERSONAL           8.90   \n",
            "\n",
            "   loan_percent_income  cb_person_cred_hist_length  credit_score  \\\n",
            "0                 0.49                         3.0           561   \n",
            "2                 0.44                         3.0           635   \n",
            "4                 0.53                         4.0           586   \n",
            "6                 0.37                         3.0           701   \n",
            "8                 0.35                         2.0           544   \n",
            "\n",
            "  previous_loan_defaults_on_file  loan_status  \n",
            "0                             No            1  \n",
            "2                             No            1  \n",
            "4                             No            1  \n",
            "6                             No            1  \n",
            "8                             No            1  \n",
            "2e:\n",
            "    person_age  loan_status\n",
            "0        22.0            1\n",
            "1        21.0            0\n",
            "2        25.0            1\n",
            "3        23.0            1\n",
            "4        24.0            1\n"
          ]
        }
      ]
    },
    {
      "cell_type": "markdown",
      "source": [
        "Zadanie 3"
      ],
      "metadata": {
        "id": "jIGb7UVoWh4A"
      }
    },
    {
      "cell_type": "code",
      "source": [
        "zad3_a = df[\n",
        "    (df['person_gender'] == 'female') &\n",
        "    (df['person_education'].isin(['Master', 'Bachelor'])) &\n",
        "    (df['loan_amount'].between(50000, 70000))\n",
        "]\n",
        "\n",
        "zad3_b = df[\n",
        "    (df['person_gender'] == 'male') &\n",
        "    (df['person_education'] != 'Master') &\n",
        "    (df['person_home_ownership'] == 'OWN')\n",
        "]\n",
        "\n",
        "zad3_c = df[\n",
        "    df['loan_percent_income'].between(0.4, 0.6)\n",
        "]\n",
        "\n",
        "zad3_d = df[\n",
        "    df['loan_amount'] % 10000 == 0\n",
        "]"
      ],
      "metadata": {
        "id": "yGLcYggBWw79"
      },
      "execution_count": 10,
      "outputs": []
    },
    {
      "cell_type": "code",
      "source": [
        "print(\"3a:\\n\", zad3_a.head)\n",
        "print(\"3b:\\n\", zad3_b.head)\n",
        "print(\"3c:\\n\", zad3_c.head)\n",
        "print(\"3d:\\n\", zad3_d.head)"
      ],
      "metadata": {
        "colab": {
          "base_uri": "https://localhost:8080/"
        },
        "id": "-zEny93yYEN6",
        "outputId": "777b6ef8-8d01-4bee-b36d-5cc22b703d34"
      },
      "execution_count": 15,
      "outputs": [
        {
          "output_type": "stream",
          "name": "stdout",
          "text": [
            "3a:\n",
            " <bound method NDFrame.head of Empty DataFrame\n",
            "Columns: [person_age, person_gender, person_education, person_income, person_emp_exp, person_home_ownership, loan_amount, loan_intent, loan_int_rate, loan_percent_income, cb_person_cred_hist_length, credit_score, previous_loan_defaults_on_file, loan_status]\n",
            "Index: []>\n",
            "3b:\n",
            " <bound method NDFrame.head of        person_age person_gender person_education  person_income  \\\n",
            "27           23.0          male      High School        14293.0   \n",
            "30           21.0          male      High School        14858.0   \n",
            "35           21.0          male        Associate        15150.0   \n",
            "43           23.0          male      High School       361547.0   \n",
            "57           23.0          male         Bachelor       333399.0   \n",
            "...           ...           ...              ...            ...   \n",
            "44353        25.0          male      High School        18772.0   \n",
            "44391        26.0          male        Associate        15288.0   \n",
            "44543        30.0          male      High School        24052.0   \n",
            "44683        23.0          male        Associate        23346.0   \n",
            "44825        22.0          male      High School        22538.0   \n",
            "\n",
            "       person_emp_exp person_home_ownership  loan_amount      loan_intent  \\\n",
            "27                  0                   OWN       1400.0         PERSONAL   \n",
            "30                  0                   OWN       2000.0          MEDICAL   \n",
            "35                  0                   OWN       2500.0        EDUCATION   \n",
            "43                  0                   OWN      24250.0        EDUCATION   \n",
            "57                  1                   OWN      35000.0         PERSONAL   \n",
            "...               ...                   ...          ...              ...   \n",
            "44353               2                   OWN       4468.0          VENTURE   \n",
            "44391               2                   OWN       2690.0        EDUCATION   \n",
            "44543               8                   OWN       7000.0  HOMEIMPROVEMENT   \n",
            "44683               2                   OWN       4027.0          VENTURE   \n",
            "44825               1                   OWN       4913.0        EDUCATION   \n",
            "\n",
            "       loan_int_rate  loan_percent_income  cb_person_cred_hist_length  \\\n",
            "27              9.32                 0.10                         3.0   \n",
            "30             11.12                 0.13                         3.0   \n",
            "35              7.51                 0.17                         4.0   \n",
            "43             19.41                 0.07                         2.0   \n",
            "57             11.01                 0.10                         4.0   \n",
            "...              ...                  ...                         ...   \n",
            "44353          11.99                 0.24                         4.0   \n",
            "44391          10.96                 0.18                         4.0   \n",
            "44543          15.78                 0.29                         5.0   \n",
            "44683          15.01                 0.17                         4.0   \n",
            "44825          13.68                 0.22                         5.0   \n",
            "\n",
            "       credit_score previous_loan_defaults_on_file  loan_status  \n",
            "27              607                             No            0  \n",
            "30              589                             No            1  \n",
            "35              600                             No            1  \n",
            "43              637                            Yes            0  \n",
            "57              609                             No            0  \n",
            "...             ...                            ...          ...  \n",
            "44353           658                             No            1  \n",
            "44391           649                             No            1  \n",
            "44543           590                             No            1  \n",
            "44683           646                             No            1  \n",
            "44825           637                             No            1  \n",
            "\n",
            "[1360 rows x 14 columns]>\n",
            "3c:\n",
            " <bound method NDFrame.head of        person_age person_gender person_education  person_income  \\\n",
            "0            22.0        female           Master        71948.0   \n",
            "2            25.0        female      High School        12438.0   \n",
            "3            23.0        female         Bachelor        79753.0   \n",
            "4            24.0          male           Master        66135.0   \n",
            "22           22.0        female           Master        79255.0   \n",
            "...           ...           ...              ...            ...   \n",
            "44903        25.0          male        Associate        43219.0   \n",
            "44940        29.0          male      High School        30046.0   \n",
            "44942        27.0          male           Master        48432.0   \n",
            "44966        26.0        female         Bachelor        36844.0   \n",
            "44986        34.0          male         Bachelor        41876.0   \n",
            "\n",
            "       person_emp_exp person_home_ownership  loan_amount        loan_intent  \\\n",
            "0                   0                  RENT      35000.0           PERSONAL   \n",
            "2                   3              MORTGAGE       5500.0            MEDICAL   \n",
            "3                   0                  RENT      35000.0            MEDICAL   \n",
            "4                   1                  RENT      35000.0            MEDICAL   \n",
            "22                  0                  RENT      34000.0          EDUCATION   \n",
            "...               ...                   ...          ...                ...   \n",
            "44903               1                  RENT      22807.0            MEDICAL   \n",
            "44940               7                  RENT      12092.0           PERSONAL   \n",
            "44942               8                  RENT      20223.0            VENTURE   \n",
            "44966               0                  RENT      16000.0  DEBTCONSOLIDATION   \n",
            "44986              14                  RENT      19594.0  DEBTCONSOLIDATION   \n",
            "\n",
            "       loan_int_rate  loan_percent_income  cb_person_cred_hist_length  \\\n",
            "0              16.02                 0.49                         3.0   \n",
            "2              12.87                 0.44                         3.0   \n",
            "3              15.23                 0.44                         2.0   \n",
            "4              14.27                 0.53                         4.0   \n",
            "22             17.58                 0.43                         4.0   \n",
            "...              ...                  ...                         ...   \n",
            "44903          12.67                 0.53                         5.0   \n",
            "44940          11.79                 0.40                         7.0   \n",
            "44942           6.83                 0.42                         8.0   \n",
            "44966          12.00                 0.43                         5.0   \n",
            "44986          12.03                 0.47                         8.0   \n",
            "\n",
            "       credit_score previous_loan_defaults_on_file  loan_status  \n",
            "0               561                             No            1  \n",
            "2               635                             No            1  \n",
            "3               675                             No            1  \n",
            "4               586                             No            1  \n",
            "22              691                             No            1  \n",
            "...             ...                            ...          ...  \n",
            "44903           668                             No            1  \n",
            "44940           535                             No            1  \n",
            "44942           650                             No            1  \n",
            "44966           620                             No            1  \n",
            "44986           707                             No            1  \n",
            "\n",
            "[508 rows x 14 columns]>\n",
            "3d:\n",
            " <bound method NDFrame.head of        person_age person_gender person_education  person_income  \\\n",
            "15           23.0        female           Master       600891.0   \n",
            "36           22.0        female         Bachelor        58868.0   \n",
            "37           24.0          male      High School        78026.0   \n",
            "38           25.0          male         Bachelor        90785.0   \n",
            "39           23.0        female      High School        86811.0   \n",
            "...           ...           ...              ...            ...   \n",
            "44910        29.0          male         Bachelor        70997.0   \n",
            "44944        26.0          male        Associate        97590.0   \n",
            "44953        36.0          male           Master        71544.0   \n",
            "44962        23.0          male        Associate        89930.0   \n",
            "44984        24.0        female      High School        75941.0   \n",
            "\n",
            "       person_emp_exp person_home_ownership  loan_amount        loan_intent  \\\n",
            "15                  5              MORTGAGE      30000.0  DEBTCONSOLIDATION   \n",
            "36                  0                  RENT      30000.0          EDUCATION   \n",
            "37                  3                  RENT      30000.0  DEBTCONSOLIDATION   \n",
            "38                  4                  RENT      30000.0    HOMEIMPROVEMENT   \n",
            "39                  0                  RENT      30000.0  DEBTCONSOLIDATION   \n",
            "...               ...                   ...          ...                ...   \n",
            "44910               6                  RENT      20000.0           PERSONAL   \n",
            "44944               7                  RENT      30000.0  DEBTCONSOLIDATION   \n",
            "44953              13                  RENT      10000.0          EDUCATION   \n",
            "44962               0              MORTGAGE      10000.0            VENTURE   \n",
            "44984               1                  RENT      20000.0            MEDICAL   \n",
            "\n",
            "       loan_int_rate  loan_percent_income  cb_person_cred_hist_length  \\\n",
            "15             10.65                 0.05                         3.0   \n",
            "36             18.39                 0.51                         2.0   \n",
            "37             14.54                 0.38                         3.0   \n",
            "38             16.89                 0.33                         4.0   \n",
            "39             11.01                 0.35                         4.0   \n",
            "...              ...                  ...                         ...   \n",
            "44910          13.28                 0.28                         5.0   \n",
            "44944           9.45                 0.31                         3.0   \n",
            "44953          10.85                 0.14                        15.0   \n",
            "44962           9.34                 0.11                         2.0   \n",
            "44984          14.85                 0.26                         4.0   \n",
            "\n",
            "       credit_score previous_loan_defaults_on_file  loan_status  \n",
            "15              670                            Yes            0  \n",
            "36              606                             No            1  \n",
            "37              582                             No            1  \n",
            "38              649                             No            1  \n",
            "39              602                             No            1  \n",
            "...             ...                            ...          ...  \n",
            "44910           676                             No            1  \n",
            "44944           666                             No            1  \n",
            "44953           576                             No            1  \n",
            "44962           657                             No            1  \n",
            "44984           592                             No            1  \n",
            "\n",
            "[5126 rows x 14 columns]>\n"
          ]
        }
      ]
    }
  ]
}